{
 "cells": [
  {
   "cell_type": "markdown",
   "metadata": {},
   "source": [
    "# Step 1: Import important libraries"
   ]
  },
  {
   "cell_type": "code",
   "execution_count": 1,
   "metadata": {},
   "outputs": [],
   "source": [
    "#Import all packages needed\n",
    "import pandas as pd\n",
    "import numpy as np\n",
    "from matplotlib import pyplot as plt\n",
    "import seaborn as sns\n",
    "plt.style.use('ggplot')\n",
    "from string import punctuation\n",
    "import re # for regular expression\n",
    "import string\n",
    "import nltk "
   ]
  },
  {
   "cell_type": "code",
   "execution_count": 2,
   "metadata": {
    "scrolled": false
   },
   "outputs": [],
   "source": [
    "#Read the xlsx file using read_excel build-in function in pandas \n",
    "Data_df = pd.read_excel('C:/Users/ASUS/Downloads/Saad/alldatasets.xlsx')"
   ]
  },
  {
   "cell_type": "markdown",
   "metadata": {},
   "source": [
    "# Step 2: Explore that data\n"
   ]
  },
  {
   "cell_type": "code",
   "execution_count": 3,
   "metadata": {},
   "outputs": [
    {
     "data": {
      "text/plain": [
       "8180"
      ]
     },
     "execution_count": 3,
     "metadata": {},
     "output_type": "execute_result"
    }
   ],
   "source": [
    "# how much data do I have?\n",
    "len(Data_df)"
   ]
  },
  {
   "cell_type": "code",
   "execution_count": 4,
   "metadata": {},
   "outputs": [
    {
     "data": {
      "text/plain": [
       "(8180, 18)"
      ]
     },
     "execution_count": 4,
     "metadata": {},
     "output_type": "execute_result"
    }
   ],
   "source": [
    "Data_df.shape"
   ]
  },
  {
   "cell_type": "code",
   "execution_count": 5,
   "metadata": {},
   "outputs": [
    {
     "data": {
      "text/plain": [
       "Index(['Tweet ID', 'Date', 'URL', 'Content', 'State', 'Language', 'Auther',\n",
       "       'Name', 'Gender', 'Country', 'City', 'Lication from user BIO', 'Posts',\n",
       "       'Post Favorite', 'Friends', 'Followers', 'Source', 'Retweeted Status'],\n",
       "      dtype='object')"
      ]
     },
     "execution_count": 5,
     "metadata": {},
     "output_type": "execute_result"
    }
   ],
   "source": [
    "Data_df.columns"
   ]
  },
  {
   "cell_type": "code",
   "execution_count": 6,
   "metadata": {},
   "outputs": [
    {
     "data": {
      "text/html": [
       "<div>\n",
       "<style scoped>\n",
       "    .dataframe tbody tr th:only-of-type {\n",
       "        vertical-align: middle;\n",
       "    }\n",
       "\n",
       "    .dataframe tbody tr th {\n",
       "        vertical-align: top;\n",
       "    }\n",
       "\n",
       "    .dataframe thead th {\n",
       "        text-align: right;\n",
       "    }\n",
       "</style>\n",
       "<table border=\"1\" class=\"dataframe\">\n",
       "  <thead>\n",
       "    <tr style=\"text-align: right;\">\n",
       "      <th></th>\n",
       "      <th>Tweet ID</th>\n",
       "      <th>Date</th>\n",
       "      <th>URL</th>\n",
       "      <th>Content</th>\n",
       "      <th>State</th>\n",
       "      <th>Language</th>\n",
       "      <th>Auther</th>\n",
       "      <th>Name</th>\n",
       "      <th>Gender</th>\n",
       "      <th>Country</th>\n",
       "      <th>City</th>\n",
       "      <th>Lication from user BIO</th>\n",
       "      <th>Posts</th>\n",
       "      <th>Post Favorite</th>\n",
       "      <th>Friends</th>\n",
       "      <th>Followers</th>\n",
       "      <th>Source</th>\n",
       "      <th>Retweeted Status</th>\n",
       "    </tr>\n",
       "  </thead>\n",
       "  <tbody>\n",
       "    <tr>\n",
       "      <th>8175</th>\n",
       "      <td>1110000000000000000</td>\n",
       "      <td>2019-03-12 16:02:00</td>\n",
       "      <td>ل</td>\n",
       "      <td>RT ekramyyounis لاعب الاهلي متربي علي الرجولة ...</td>\n",
       "      <td>Positive</td>\n",
       "      <td>ar</td>\n",
       "      <td>Dodo??</td>\n",
       "      <td>Dodo83262607</td>\n",
       "      <td>Male</td>\n",
       "      <td>المملكة العربية السعودية</td>\n",
       "      <td>جدة</td>\n",
       "      <td>None</td>\n",
       "      <td>16889</td>\n",
       "      <td>1718</td>\n",
       "      <td>155</td>\n",
       "      <td>722</td>\n",
       "      <td>Twitter for Android</td>\n",
       "      <td>This is a retweet</td>\n",
       "    </tr>\n",
       "    <tr>\n",
       "      <th>8176</th>\n",
       "      <td>1110000000000000000</td>\n",
       "      <td>2019-03-12 16:02:00</td>\n",
       "      <td>…</td>\n",
       "      <td>RT igmIEQXFFqPeTMy الجمهور اللي تربه علي ايد ا...</td>\n",
       "      <td>Positive</td>\n",
       "      <td>ar</td>\n",
       "      <td>Anmed eissa</td>\n",
       "      <td>EissaAnmed</td>\n",
       "      <td>Male</td>\n",
       "      <td>المملكة العربية السعودية</td>\n",
       "      <td>جدة</td>\n",
       "      <td>None</td>\n",
       "      <td>1027</td>\n",
       "      <td>651</td>\n",
       "      <td>61</td>\n",
       "      <td>33</td>\n",
       "      <td>Twitter for iPhone</td>\n",
       "      <td>This is a retweet</td>\n",
       "    </tr>\n",
       "    <tr>\n",
       "      <th>8177</th>\n",
       "      <td>1110000000000000000</td>\n",
       "      <td>2019-03-12 16:02:00</td>\n",
       "      <td>…</td>\n",
       "      <td>RT mayamajed20 كود خصم اضافي علي نون بقيمة  عل...</td>\n",
       "      <td>Other</td>\n",
       "      <td>ar</td>\n",
       "      <td>نرمين عادل??</td>\n",
       "      <td>9OgWF154CDtJfkR</td>\n",
       "      <td>Business</td>\n",
       "      <td>المملكة العربية السعودية</td>\n",
       "      <td>جدة</td>\n",
       "      <td>None</td>\n",
       "      <td>1677</td>\n",
       "      <td>1752</td>\n",
       "      <td>62</td>\n",
       "      <td>54</td>\n",
       "      <td>Twitter for Android</td>\n",
       "      <td>This is a retweet</td>\n",
       "    </tr>\n",
       "    <tr>\n",
       "      <th>8178</th>\n",
       "      <td>1110000000000000000</td>\n",
       "      <td>2019-03-12 16:02:00</td>\n",
       "      <td>ي</td>\n",
       "      <td>BnAli88 و الاهلي ليه ينزل لاعبين من الفريق الأ...</td>\n",
       "      <td>Positive</td>\n",
       "      <td>ar</td>\n",
       "      <td>Ammar Yasser</td>\n",
       "      <td>AmmarYa22</td>\n",
       "      <td>Male</td>\n",
       "      <td>المملكة العربية السعودية</td>\n",
       "      <td>جدة</td>\n",
       "      <td>None</td>\n",
       "      <td>87</td>\n",
       "      <td>171</td>\n",
       "      <td>304</td>\n",
       "      <td>7</td>\n",
       "      <td>Twitter for Android</td>\n",
       "      <td>Original tweet</td>\n",
       "    </tr>\n",
       "    <tr>\n",
       "      <th>8179</th>\n",
       "      <td>1110000000000000000</td>\n",
       "      <td>2019-03-12 16:02:00</td>\n",
       "      <td>…</td>\n",
       "      <td>RT Naiiif___511 الهلال_الدحيل\\r\\n\\r\\nالاتحاد ي...</td>\n",
       "      <td>Positive</td>\n",
       "      <td>ar</td>\n",
       "      <td>?فيصل</td>\n",
       "      <td>FsFs_911</td>\n",
       "      <td>Male</td>\n",
       "      <td>المملكة العربية السعودية</td>\n",
       "      <td>جدة</td>\n",
       "      <td>نجران</td>\n",
       "      <td>19307</td>\n",
       "      <td>528</td>\n",
       "      <td>477</td>\n",
       "      <td>511</td>\n",
       "      <td>Twitter for iPhone</td>\n",
       "      <td>This is a retweet</td>\n",
       "    </tr>\n",
       "  </tbody>\n",
       "</table>\n",
       "</div>"
      ],
      "text/plain": [
       "                 Tweet ID                 Date URL  \\\n",
       "8175  1110000000000000000  2019-03-12 16:02:00   ل   \n",
       "8176  1110000000000000000  2019-03-12 16:02:00   …   \n",
       "8177  1110000000000000000  2019-03-12 16:02:00   …   \n",
       "8178  1110000000000000000  2019-03-12 16:02:00   ي   \n",
       "8179  1110000000000000000  2019-03-12 16:02:00   …   \n",
       "\n",
       "                                                Content     State Language  \\\n",
       "8175  RT ekramyyounis لاعب الاهلي متربي علي الرجولة ...  Positive       ar   \n",
       "8176  RT igmIEQXFFqPeTMy الجمهور اللي تربه علي ايد ا...  Positive       ar   \n",
       "8177  RT mayamajed20 كود خصم اضافي علي نون بقيمة  عل...     Other       ar   \n",
       "8178  BnAli88 و الاهلي ليه ينزل لاعبين من الفريق الأ...  Positive       ar   \n",
       "8179  RT Naiiif___511 الهلال_الدحيل\\r\\n\\r\\nالاتحاد ي...  Positive       ar   \n",
       "\n",
       "            Auther             Name    Gender                   Country City  \\\n",
       "8175        Dodo??     Dodo83262607      Male  المملكة العربية السعودية  جدة   \n",
       "8176   Anmed eissa       EissaAnmed      Male  المملكة العربية السعودية  جدة   \n",
       "8177  نرمين عادل??  9OgWF154CDtJfkR  Business  المملكة العربية السعودية  جدة   \n",
       "8178  Ammar Yasser        AmmarYa22      Male  المملكة العربية السعودية  جدة   \n",
       "8179         ?فيصل         FsFs_911      Male  المملكة العربية السعودية  جدة   \n",
       "\n",
       "     Lication from user BIO  Posts  Post Favorite  Friends  Followers  \\\n",
       "8175                   None  16889           1718      155        722   \n",
       "8176                   None   1027            651       61         33   \n",
       "8177                   None   1677           1752       62         54   \n",
       "8178                   None     87            171      304          7   \n",
       "8179                  نجران  19307            528      477        511   \n",
       "\n",
       "                   Source   Retweeted Status  \n",
       "8175  Twitter for Android  This is a retweet  \n",
       "8176   Twitter for iPhone  This is a retweet  \n",
       "8177  Twitter for Android  This is a retweet  \n",
       "8178  Twitter for Android     Original tweet  \n",
       "8179   Twitter for iPhone  This is a retweet  "
      ]
     },
     "execution_count": 6,
     "metadata": {},
     "output_type": "execute_result"
    }
   ],
   "source": [
    "Data_df.tail(5)"
   ]
  },
  {
   "cell_type": "code",
   "execution_count": 7,
   "metadata": {},
   "outputs": [],
   "source": [
    "# Cleaning the last null values\n",
    "Data_df=Data_df[1:8000]"
   ]
  },
  {
   "cell_type": "code",
   "execution_count": 8,
   "metadata": {
    "scrolled": true
   },
   "outputs": [
    {
     "data": {
      "text/html": [
       "<div>\n",
       "<style scoped>\n",
       "    .dataframe tbody tr th:only-of-type {\n",
       "        vertical-align: middle;\n",
       "    }\n",
       "\n",
       "    .dataframe tbody tr th {\n",
       "        vertical-align: top;\n",
       "    }\n",
       "\n",
       "    .dataframe thead th {\n",
       "        text-align: right;\n",
       "    }\n",
       "</style>\n",
       "<table border=\"1\" class=\"dataframe\">\n",
       "  <thead>\n",
       "    <tr style=\"text-align: right;\">\n",
       "      <th></th>\n",
       "      <th>Tweet ID</th>\n",
       "      <th>Date</th>\n",
       "      <th>URL</th>\n",
       "      <th>Content</th>\n",
       "      <th>State</th>\n",
       "      <th>Language</th>\n",
       "      <th>Auther</th>\n",
       "      <th>Name</th>\n",
       "      <th>Gender</th>\n",
       "      <th>Country</th>\n",
       "      <th>City</th>\n",
       "      <th>Lication from user BIO</th>\n",
       "      <th>Posts</th>\n",
       "      <th>Post Favorite</th>\n",
       "      <th>Friends</th>\n",
       "      <th>Followers</th>\n",
       "      <th>Source</th>\n",
       "      <th>Retweeted Status</th>\n",
       "    </tr>\n",
       "  </thead>\n",
       "  <tbody>\n",
       "    <tr>\n",
       "      <th>7995</th>\n",
       "      <td>1110000000000000000</td>\n",
       "      <td>2019-03-12 16:02:00</td>\n",
       "      <td>ا</td>\n",
       "      <td>RT ahlawya88948030 لاعبي_الاهلي_رجال\\r\\nيلا يا...</td>\n",
       "      <td>Positive</td>\n",
       "      <td>ar</td>\n",
       "      <td>BaSmA AfIfI</td>\n",
       "      <td>6BaSmA6</td>\n",
       "      <td>Female</td>\n",
       "      <td>المملكة العربية السعودية</td>\n",
       "      <td>جدة</td>\n",
       "      <td>السويس, مصر</td>\n",
       "      <td>9232</td>\n",
       "      <td>2783</td>\n",
       "      <td>57</td>\n",
       "      <td>232</td>\n",
       "      <td>Twitter for Android</td>\n",
       "      <td>This is a retweet</td>\n",
       "    </tr>\n",
       "    <tr>\n",
       "      <th>7996</th>\n",
       "      <td>1110000000000000000</td>\n",
       "      <td>2019-03-12 16:02:00</td>\n",
       "      <td>ل</td>\n",
       "      <td>RT ekramyyounis لاعب الاهلي متربي علي الرجولة ...</td>\n",
       "      <td>Positive</td>\n",
       "      <td>ar</td>\n",
       "      <td>Lolo Alaa</td>\n",
       "      <td>Lolooo15311422</td>\n",
       "      <td>Female</td>\n",
       "      <td>المملكة العربية السعودية</td>\n",
       "      <td>جدة</td>\n",
       "      <td>Cairo</td>\n",
       "      <td>6927</td>\n",
       "      <td>2074</td>\n",
       "      <td>282</td>\n",
       "      <td>397</td>\n",
       "      <td>Twitter for Android</td>\n",
       "      <td>This is a retweet</td>\n",
       "    </tr>\n",
       "    <tr>\n",
       "      <th>7997</th>\n",
       "      <td>1110000000000000000</td>\n",
       "      <td>2019-03-12 16:02:00</td>\n",
       "      <td>…</td>\n",
       "      <td>RT Al7iaty 11راجل ف الملعب اهلاوي\\r\\n90 دقيقه ...</td>\n",
       "      <td>Positive</td>\n",
       "      <td>ar</td>\n",
       "      <td>عمرو جوده</td>\n",
       "      <td>wAjCqZnF1Cf5ILD</td>\n",
       "      <td>Male</td>\n",
       "      <td>المملكة العربية السعودية</td>\n",
       "      <td>جدة</td>\n",
       "      <td>None</td>\n",
       "      <td>4008</td>\n",
       "      <td>154</td>\n",
       "      <td>927</td>\n",
       "      <td>723</td>\n",
       "      <td>Twitter for Android</td>\n",
       "      <td>This is a retweet</td>\n",
       "    </tr>\n",
       "    <tr>\n",
       "      <th>7998</th>\n",
       "      <td>1110000000000000000</td>\n",
       "      <td>2019-03-12 16:02:00</td>\n",
       "      <td>ر</td>\n",
       "      <td>RT k8maSkBYGy0NvnU يا رجال الاهلي استعدوا لمعر...</td>\n",
       "      <td>Positive</td>\n",
       "      <td>ar</td>\n",
       "      <td>Anmed eissa</td>\n",
       "      <td>EissaAnmed</td>\n",
       "      <td>Male</td>\n",
       "      <td>المملكة العربية السعودية</td>\n",
       "      <td>جدة</td>\n",
       "      <td>None</td>\n",
       "      <td>1013</td>\n",
       "      <td>651</td>\n",
       "      <td>61</td>\n",
       "      <td>33</td>\n",
       "      <td>Twitter for iPhone</td>\n",
       "      <td>This is a retweet</td>\n",
       "    </tr>\n",
       "    <tr>\n",
       "      <th>7999</th>\n",
       "      <td>1110000000000000000</td>\n",
       "      <td>2019-03-12 16:02:00</td>\n",
       "      <td>??</td>\n",
       "      <td>drWbaghdadi meccaphone1171 انت عندك حاله نفسية...</td>\n",
       "      <td>Positive</td>\n",
       "      <td>ar</td>\n",
       "      <td>Khalid</td>\n",
       "      <td>kh_khalid_kh</td>\n",
       "      <td>Male</td>\n",
       "      <td>المملكة العربية السعودية</td>\n",
       "      <td>جدة</td>\n",
       "      <td>None</td>\n",
       "      <td>4998</td>\n",
       "      <td>216</td>\n",
       "      <td>2121</td>\n",
       "      <td>687</td>\n",
       "      <td>Twitter Web App</td>\n",
       "      <td>Original tweet</td>\n",
       "    </tr>\n",
       "  </tbody>\n",
       "</table>\n",
       "</div>"
      ],
      "text/plain": [
       "                 Tweet ID                 Date URL  \\\n",
       "7995  1110000000000000000  2019-03-12 16:02:00   ا   \n",
       "7996  1110000000000000000  2019-03-12 16:02:00   ل   \n",
       "7997  1110000000000000000  2019-03-12 16:02:00   …   \n",
       "7998  1110000000000000000  2019-03-12 16:02:00   ر   \n",
       "7999  1110000000000000000  2019-03-12 16:02:00  ??   \n",
       "\n",
       "                                                Content     State Language  \\\n",
       "7995  RT ahlawya88948030 لاعبي_الاهلي_رجال\\r\\nيلا يا...  Positive       ar   \n",
       "7996  RT ekramyyounis لاعب الاهلي متربي علي الرجولة ...  Positive       ar   \n",
       "7997  RT Al7iaty 11راجل ف الملعب اهلاوي\\r\\n90 دقيقه ...  Positive       ar   \n",
       "7998  RT k8maSkBYGy0NvnU يا رجال الاهلي استعدوا لمعر...  Positive       ar   \n",
       "7999  drWbaghdadi meccaphone1171 انت عندك حاله نفسية...  Positive       ar   \n",
       "\n",
       "           Auther             Name  Gender                   Country City  \\\n",
       "7995  BaSmA AfIfI          6BaSmA6  Female  المملكة العربية السعودية  جدة   \n",
       "7996    Lolo Alaa   Lolooo15311422  Female  المملكة العربية السعودية  جدة   \n",
       "7997    عمرو جوده  wAjCqZnF1Cf5ILD    Male  المملكة العربية السعودية  جدة   \n",
       "7998  Anmed eissa       EissaAnmed    Male  المملكة العربية السعودية  جدة   \n",
       "7999       Khalid     kh_khalid_kh    Male  المملكة العربية السعودية  جدة   \n",
       "\n",
       "     Lication from user BIO  Posts  Post Favorite  Friends  Followers  \\\n",
       "7995            السويس, مصر   9232           2783       57        232   \n",
       "7996                  Cairo   6927           2074      282        397   \n",
       "7997                   None   4008            154      927        723   \n",
       "7998                   None   1013            651       61         33   \n",
       "7999                   None   4998            216     2121        687   \n",
       "\n",
       "                   Source   Retweeted Status  \n",
       "7995  Twitter for Android  This is a retweet  \n",
       "7996  Twitter for Android  This is a retweet  \n",
       "7997  Twitter for Android  This is a retweet  \n",
       "7998   Twitter for iPhone  This is a retweet  \n",
       "7999      Twitter Web App     Original tweet  "
      ]
     },
     "execution_count": 8,
     "metadata": {},
     "output_type": "execute_result"
    }
   ],
   "source": [
    "Data_df.tail(5)"
   ]
  },
  {
   "cell_type": "code",
   "execution_count": 9,
   "metadata": {},
   "outputs": [
    {
     "name": "stdout",
     "output_type": "stream",
     "text": [
      "<class 'pandas.core.frame.DataFrame'>\n",
      "RangeIndex: 7999 entries, 1 to 7999\n",
      "Data columns (total 18 columns):\n",
      "Tweet ID                  7999 non-null int64\n",
      "Date                      7999 non-null object\n",
      "URL                       7999 non-null object\n",
      "Content                   7999 non-null object\n",
      "State                     7999 non-null object\n",
      "Language                  7999 non-null object\n",
      "Auther                    7999 non-null object\n",
      "Name                      7999 non-null object\n",
      "Gender                    7999 non-null object\n",
      "Country                   7999 non-null object\n",
      "City                      7999 non-null object\n",
      "Lication from user BIO    7999 non-null object\n",
      "Posts                     7999 non-null int64\n",
      "Post Favorite             7999 non-null int64\n",
      "Friends                   7999 non-null int64\n",
      "Followers                 7999 non-null int64\n",
      "Source                    7999 non-null object\n",
      "Retweeted Status          7999 non-null object\n",
      "dtypes: int64(5), object(13)\n",
      "memory usage: 1.1+ MB\n"
     ]
    }
   ],
   "source": [
    "# Print a concise summary of a DataFrame\n",
    "Data_df.info()"
   ]
  },
  {
   "cell_type": "code",
   "execution_count": 10,
   "metadata": {},
   "outputs": [
    {
     "data": {
      "text/plain": [
       "Tweet ID                  7999\n",
       "Date                      7999\n",
       "URL                       7999\n",
       "Content                   7999\n",
       "State                     7999\n",
       "Language                  7999\n",
       "Auther                    7999\n",
       "Name                      7999\n",
       "Gender                    7999\n",
       "Country                   7999\n",
       "City                      7999\n",
       "Lication from user BIO    7999\n",
       "Posts                     7999\n",
       "Post Favorite             7999\n",
       "Friends                   7999\n",
       "Followers                 7999\n",
       "Source                    7999\n",
       "Retweeted Status          7999\n",
       "dtype: int64"
      ]
     },
     "execution_count": 10,
     "metadata": {},
     "output_type": "execute_result"
    }
   ],
   "source": [
    "# number of non-NA values\n",
    "Data_df.count()"
   ]
  },
  {
   "cell_type": "code",
   "execution_count": 11,
   "metadata": {},
   "outputs": [
    {
     "data": {
      "text/plain": [
       "18"
      ]
     },
     "execution_count": 11,
     "metadata": {},
     "output_type": "execute_result"
    }
   ],
   "source": [
    "# Retrieve number of columns\n",
    "len(Data_df.columns)"
   ]
  },
  {
   "cell_type": "code",
   "execution_count": 12,
   "metadata": {},
   "outputs": [
    {
     "data": {
      "text/plain": [
       "array(['المملكة العربية السعودية', 'United Kingdom',\n",
       "       'United Arab Emirates', 'Kingdom of Saudi Arabia'], dtype=object)"
      ]
     },
     "execution_count": 12,
     "metadata": {},
     "output_type": "execute_result"
    }
   ],
   "source": [
    "Data_df.Country.unique()"
   ]
  },
  {
   "cell_type": "code",
   "execution_count": 13,
   "metadata": {},
   "outputs": [],
   "source": [
    "Data_df['Country']= np.where(Data_df['Country']==\"المملكة العربية السعودية\",'Kingdom of Saudi Arabia', Data_df['Country'])"
   ]
  },
  {
   "cell_type": "code",
   "execution_count": 14,
   "metadata": {},
   "outputs": [],
   "source": [
    "tweets_by_country = Data_df['Country'].value_counts()"
   ]
  },
  {
   "cell_type": "code",
   "execution_count": 15,
   "metadata": {},
   "outputs": [
    {
     "data": {
      "text/plain": [
       "Kingdom of Saudi Arabia    7832\n",
       "United Kingdom              141\n",
       "United Arab Emirates         26\n",
       "Name: Country, dtype: int64"
      ]
     },
     "execution_count": 15,
     "metadata": {},
     "output_type": "execute_result"
    }
   ],
   "source": [
    "tweets_by_country"
   ]
  },
  {
   "cell_type": "code",
   "execution_count": 16,
   "metadata": {},
   "outputs": [
    {
     "name": "stdout",
     "output_type": "stream",
     "text": [
      "<class 'pandas.core.frame.DataFrame'>\n",
      "RangeIndex: 7999 entries, 1 to 7999\n",
      "Data columns (total 18 columns):\n",
      "Tweet ID                  7999 non-null int32\n",
      "Date                      7999 non-null object\n",
      "URL                       7999 non-null object\n",
      "Content                   7999 non-null object\n",
      "State                     7999 non-null object\n",
      "Language                  7999 non-null object\n",
      "Auther                    7999 non-null object\n",
      "Name                      7999 non-null object\n",
      "Gender                    7999 non-null object\n",
      "Country                   7999 non-null object\n",
      "City                      7999 non-null object\n",
      "Lication from user BIO    7999 non-null object\n",
      "Posts                     7999 non-null int32\n",
      "Post Favorite             7999 non-null int32\n",
      "Friends                   7999 non-null int32\n",
      "Followers                 7999 non-null int32\n",
      "Source                    7999 non-null object\n",
      "Retweeted Status          7999 non-null object\n",
      "dtypes: int32(5), object(13)\n",
      "memory usage: 968.7+ KB\n"
     ]
    }
   ],
   "source": [
    "# Changing it to appropriate DataTypes\n",
    "Data_df['State']=Data_df['State'].astype(str)\n",
    "Data_df['Language']=Data_df['Language'].astype(str)\n",
    "Data_df['Auther']=Data_df['Auther'].astype(str)\n",
    "Data_df['Name']=Data_df['Name'].astype(str)\n",
    "Data_df['URL']=Data_df['URL'].astype(str)\n",
    "Data_df['Gender']=Data_df['Gender'].astype(str)\n",
    "Data_df['Country']=Data_df['Country'].astype(str)\n",
    "Data_df['City']=Data_df['City'].astype(str)\n",
    "Data_df['Source']=Data_df['Source'].astype(str)\n",
    "Data_df['Retweeted Status']=Data_df['Retweeted Status'].astype(str)\n",
    "Data_df['Tweet ID']=Data_df['Tweet ID'].astype(int)\n",
    "Data_df['Posts']=Data_df['Posts'].astype(int)\n",
    "Data_df['Post Favorite']=Data_df['Post Favorite'].astype(int)\n",
    "Data_df['Friends']=Data_df['Friends'].astype(int)\n",
    "Data_df['Followers']=Data_df['Followers'].astype(int)\n",
    "Data_df.info()"
   ]
  },
  {
   "cell_type": "code",
   "execution_count": 17,
   "metadata": {},
   "outputs": [
    {
     "data": {
      "text/plain": [
       "<matplotlib.axes._subplots.AxesSubplot at 0x289ca24d550>"
      ]
     },
     "execution_count": 17,
     "metadata": {},
     "output_type": "execute_result"
    },
    {
     "data": {
      "image/png": "[encoded data removed]",
      "text/plain": [
       "<Figure size 936x576 with 1 Axes>"
      ]
     },
     "metadata": {},
     "output_type": "display_data"
    }
   ],
   "source": [
    "# visualize the results\n",
    "colors = ['#e41a1c','#377eb8','#4daf4a','#984ea3','#ff7f00','#ffff33','#a65628']\n",
    "\n",
    "sns.set(rc={'figure.figsize':(13,8)})\n",
    "\n",
    "tweets_by_country.plot(kind='barh', color = colors)"
   ]
  },
  {
   "cell_type": "code",
   "execution_count": 18,
   "metadata": {},
   "outputs": [
    {
     "data": {
      "text/plain": [
       "Twitter for iPhone             4110\n",
       "Twitter for Android            3161\n",
       "Twitter Web Client              372\n",
       "IFTTT                           147\n",
       "Twitter Web App                  84\n",
       "Twitter for iPad                 35\n",
       "Tweetbot for i?S                 19\n",
       "تطبيق تدبُّر                     15\n",
       "Twitter Media Studio             10\n",
       "TweetDeck                        10\n",
       "Tweetbot for iΟS                  6\n",
       "Facebook                          5\n",
       "WordPress.com                     4\n",
       "Mobile Web (M2)                   4\n",
       "dlvr.it                           2\n",
       "Flamingo for Android              2\n",
       "AlAhramGate                       1\n",
       "Twidere for Android #8            1\n",
       "Echofon                           1\n",
       "Liban8.com                        1\n",
       "algerie24heures                   1\n",
       "Gateapplication                   1\n",
       "adwaalwatan                       1\n",
       "Talon Android                     1\n",
       "adensportposter                   1\n",
       "n-alshar3                         1\n",
       "Social Backlinks publishing       1\n",
       "riadayoum                         1\n",
       "ar7coo                            1\n",
       "Name: Source, dtype: int64"
      ]
     },
     "execution_count": 18,
     "metadata": {},
     "output_type": "execute_result"
    }
   ],
   "source": [
    "Data_df['Source'].value_counts()"
   ]
  },
  {
   "cell_type": "code",
   "execution_count": 19,
   "metadata": {},
   "outputs": [],
   "source": [
    "Tweet_status = Data_df[\"Retweeted Status\"].value_counts()"
   ]
  },
  {
   "cell_type": "code",
   "execution_count": 20,
   "metadata": {},
   "outputs": [
    {
     "data": {
      "text/plain": [
       "<matplotlib.axes._subplots.AxesSubplot at 0x289c9a3add8>"
      ]
     },
     "execution_count": 20,
     "metadata": {},
     "output_type": "execute_result"
    },
    {
     "data": {
      "image/png": "[encoded data removed]",
      "text/plain": [
       "<Figure size 936x576 with 1 Axes>"
      ]
     },
     "metadata": {},
     "output_type": "display_data"
    }
   ],
   "source": [
    "colors = ['#e41a1c','#377eb8','#4daf4a','#984ea3','#ff7f00','#ffff33','#a65628']\n",
    "\n",
    "Tweet_status.plot(kind='barh',color = colors)"
   ]
  },
  {
   "cell_type": "code",
   "execution_count": 21,
   "metadata": {},
   "outputs": [],
   "source": [
    "# Cleaning the records to unifed labels for all the cities\n",
    "Data_df['City']= np.where(Data_df['City']==\"القريات\",'Qurayyat', Data_df['City'])\n",
    "Data_df['City']= np.where(Data_df['City']==\"الدمام\",'Dammam', Data_df['City'])\n",
    "Data_df['City']= np.where(Data_df['City']==\"أحد رفيدة\",'Ahad Rafidah', Data_df['City'])\n",
    "Data_df['City']= np.where(Data_df['City']==\"تثليث\",'Tathlith', Data_df['City'])\n",
    "Data_df['City']= np.where(Data_df['City']==\"الرياض\",'Riyadh', Data_df['City'])\n",
    "Data_df['City']= np.where(Data_df['City']==\"حقل\",'Haql', Data_df['City'])\n",
    "Data_df['City']= np.where(Data_df['City']==\"حائل\",'Hail', Data_df['City'])\n",
    "Data_df['City']= np.where(Data_df['City']==\"جدة\",'Jeddah', Data_df['City'])\n",
    "Data_df['City']= np.where(Data_df['City']==\"عفيف\",'ِAffef', Data_df['City'])"
   ]
  },
  {
   "cell_type": "code",
   "execution_count": 22,
   "metadata": {},
   "outputs": [],
   "source": [
    "tweets_by_state = Data_df['City'].value_counts()"
   ]
  },
  {
   "cell_type": "code",
   "execution_count": 23,
   "metadata": {},
   "outputs": [
    {
     "data": {
      "text/plain": [
       "<matplotlib.axes._subplots.AxesSubplot at 0x289c9b39c88>"
      ]
     },
     "execution_count": 23,
     "metadata": {},
     "output_type": "execute_result"
    },
    {
     "data": {
      "image/png": "[encoded data removed]",
      "text/plain": [
       "<Figure size 936x576 with 1 Axes>"
      ]
     },
     "metadata": {},
     "output_type": "display_data"
    }
   ],
   "source": [
    "# visualize the results by another way\n",
    "colors = ['#e41a1c','#377eb8','#4daf4a','#984ea3','#ff7f00','#ffff33','#a65628']\n",
    "\n",
    "tweets_by_state.plot(kind='barh', color = colors)"
   ]
  },
  {
   "cell_type": "markdown",
   "metadata": {},
   "source": [
    "# Q: What is the distribution of State?\n"
   ]
  },
  {
   "cell_type": "code",
   "execution_count": 24,
   "metadata": {},
   "outputs": [
    {
     "data": {
      "text/plain": [
       "1     Negative\n",
       "2        Other\n",
       "3        Other\n",
       "4     Positive\n",
       "5     Positive\n",
       "6     Positive\n",
       "7     Positive\n",
       "8     Positive\n",
       "9     Positive\n",
       "10    Positive\n",
       "11    Positive\n",
       "12    Positive\n",
       "13    Negative\n",
       "14       Other\n",
       "15    Positive\n",
       "16    Positive\n",
       "17    Negative\n",
       "18    Positive\n",
       "19    Positive\n",
       "20    Positive\n",
       "21    Positive\n",
       "22    Positive\n",
       "23    Positive\n",
       "24    Positive\n",
       "25    Positive\n",
       "26    Positive\n",
       "27      Nutral\n",
       "28    Positive\n",
       "29       Other\n",
       "30    Positive\n",
       "Name: State, dtype: object"
      ]
     },
     "execution_count": 24,
     "metadata": {},
     "output_type": "execute_result"
    }
   ],
   "source": [
    "Data_df['State'][:30]"
   ]
  },
  {
   "cell_type": "code",
   "execution_count": 25,
   "metadata": {},
   "outputs": [],
   "source": [
    "tweets_by_State = Data_df['State'].value_counts()"
   ]
  },
  {
   "cell_type": "code",
   "execution_count": 26,
   "metadata": {},
   "outputs": [
    {
     "data": {
      "text/plain": [
       "<matplotlib.axes._subplots.AxesSubplot at 0x289c9ee03c8>"
      ]
     },
     "execution_count": 26,
     "metadata": {},
     "output_type": "execute_result"
    },
    {
     "data": {
      "image/png": "[encoded data removed]",
      "text/plain": [
       "<Figure size 936x576 with 1 Axes>"
      ]
     },
     "metadata": {},
     "output_type": "display_data"
    }
   ],
   "source": [
    "# visualize the results in a better way!\n",
    "colors = ['#e41a1c','#377eb8','#4daf4a','#984ea3','#ff7f00','#ffff33','#a65628']\n",
    "\n",
    "tweets_by_State.plot(kind='barh', color = colors)"
   ]
  },
  {
   "cell_type": "code",
   "execution_count": 27,
   "metadata": {},
   "outputs": [],
   "source": [
    "Data_df['State'] = Data_df['State'].map({'Negative':'Negative','Positive': \"Positive\",'Other':'Other', 'other':'Other', 'Nutral':'Neutral'})"
   ]
  },
  {
   "cell_type": "code",
   "execution_count": 28,
   "metadata": {},
   "outputs": [],
   "source": [
    "tweets_by_State_new = Data_df['State'].value_counts()"
   ]
  },
  {
   "cell_type": "code",
   "execution_count": 29,
   "metadata": {},
   "outputs": [
    {
     "data": {
      "text/plain": [
       "<matplotlib.axes._subplots.AxesSubplot at 0x289c9f51dd8>"
      ]
     },
     "execution_count": 29,
     "metadata": {},
     "output_type": "execute_result"
    },
    {
     "data": {
      "image/png": "[encoded data removed]",
      "text/plain": [
       "<Figure size 936x576 with 1 Axes>"
      ]
     },
     "metadata": {},
     "output_type": "display_data"
    }
   ],
   "source": [
    "# visualize the results in a better way!\n",
    "colors = ['#e41a1c','#377eb8','#4daf4a','#984ea3','#ff7f00','#ffff33','#a65628']\n",
    "\n",
    "tweets_by_State_new.plot(kind='barh', color = colors)"
   ]
  },
  {
   "cell_type": "markdown",
   "metadata": {},
   "source": [
    "# Q: What is the distribution of gender?\n"
   ]
  },
  {
   "cell_type": "code",
   "execution_count": 30,
   "metadata": {},
   "outputs": [],
   "source": [
    "Tweet_by_Gender = Data_df['Gender'].value_counts()"
   ]
  },
  {
   "cell_type": "code",
   "execution_count": 31,
   "metadata": {},
   "outputs": [
    {
     "data": {
      "text/plain": [
       "<matplotlib.axes._subplots.AxesSubplot at 0x289ca00b400>"
      ]
     },
     "execution_count": 31,
     "metadata": {},
     "output_type": "execute_result"
    },
    {
     "data": {
      "image/png": "[encoded data removed]",
      "text/plain": [
       "<Figure size 936x576 with 1 Axes>"
      ]
     },
     "metadata": {},
     "output_type": "display_data"
    }
   ],
   "source": [
    "colors = ['#e41a1c','#377eb8','#4daf4a','#984ea3','#ff7f00','#ffff33','#a65628']\n",
    "\n",
    "Tweet_by_Gender.plot(kind='barh', color = colors)"
   ]
  },
  {
   "cell_type": "code",
   "execution_count": 32,
   "metadata": {},
   "outputs": [
    {
     "data": {
      "text/plain": [
       "<matplotlib.axes._subplots.AxesSubplot at 0x289c9fb0208>"
      ]
     },
     "execution_count": 32,
     "metadata": {},
     "output_type": "execute_result"
    },
    {
     "data": {
      "image/png": "[encoded data removed]",
      "text/plain": [
       "<Figure size 936x576 with 1 Axes>"
      ]
     },
     "metadata": {},
     "output_type": "display_data"
    }
   ],
   "source": [
    "Tweet_by_Gender.plot(kind='pie')"
   ]
  },
  {
   "cell_type": "code",
   "execution_count": 33,
   "metadata": {},
   "outputs": [],
   "source": [
    "Data_df['Gender'] = Data_df['Gender'].map({'Female':'Female','Male': \"Male\",'male':'Male', 'Business':'Business'})"
   ]
  },
  {
   "cell_type": "code",
   "execution_count": 34,
   "metadata": {},
   "outputs": [],
   "source": [
    "tweets_by_gender_new = Data_df['Gender'].value_counts()"
   ]
  },
  {
   "cell_type": "code",
   "execution_count": 35,
   "metadata": {},
   "outputs": [
    {
     "data": {
      "text/plain": [
       "<matplotlib.axes._subplots.AxesSubplot at 0x289ca19c908>"
      ]
     },
     "execution_count": 35,
     "metadata": {},
     "output_type": "execute_result"
    },
    {
     "data": {
      "image/png": "[encoded data removed]",
      "text/plain": [
       "<Figure size 936x576 with 1 Axes>"
      ]
     },
     "metadata": {},
     "output_type": "display_data"
    }
   ],
   "source": [
    "colors = ['#e41a1c','#377eb8','#4daf4a','#984ea3','#ff7f00','#ffff33','#a65628']\n",
    "\n",
    "tweets_by_gender_new.plot(kind='barh', color = colors)"
   ]
  },
  {
   "cell_type": "code",
   "execution_count": 36,
   "metadata": {},
   "outputs": [
    {
     "data": {
      "text/plain": [
       "<matplotlib.axes._subplots.AxesSubplot at 0x289ca08ce48>"
      ]
     },
     "execution_count": 36,
     "metadata": {},
     "output_type": "execute_result"
    },
    {
     "data": {
      "image/png": "[encoded data removed]",
      "text/plain": [
       "<Figure size 936x576 with 1 Axes>"
      ]
     },
     "metadata": {},
     "output_type": "display_data"
    }
   ],
   "source": [
    "# visualize the results\n",
    "tweets_by_gender_new.plot(kind='pie')"
   ]
  },
  {
   "cell_type": "markdown",
   "metadata": {},
   "source": [
    "# Step 5.a: Clean the data"
   ]
  },
  {
   "cell_type": "code",
   "execution_count": 37,
   "metadata": {},
   "outputs": [
    {
     "data": {
      "text/plain": [
       "False"
      ]
     },
     "execution_count": 37,
     "metadata": {},
     "output_type": "execute_result"
    }
   ],
   "source": [
    "# Any missing values?\n",
    "Data_df.isnull().values.any()"
   ]
  },
  {
   "cell_type": "code",
   "execution_count": 38,
   "metadata": {},
   "outputs": [
    {
     "data": {
      "text/plain": [
       "Tweet ID                  0\n",
       "Date                      0\n",
       "URL                       0\n",
       "Content                   0\n",
       "State                     0\n",
       "Language                  0\n",
       "Auther                    0\n",
       "Name                      0\n",
       "Gender                    0\n",
       "Country                   0\n",
       "City                      0\n",
       "Lication from user BIO    0\n",
       "Posts                     0\n",
       "Post Favorite             0\n",
       "Friends                   0\n",
       "Followers                 0\n",
       "Source                    0\n",
       "Retweeted Status          0\n",
       "dtype: int64"
      ]
     },
     "execution_count": 38,
     "metadata": {},
     "output_type": "execute_result"
    }
   ],
   "source": [
    "# Total missing values for each feature\n",
    "Data_df.isnull().sum()"
   ]
  },
  {
   "cell_type": "markdown",
   "metadata": {},
   "source": [
    "#### There will be Na for the column 'State' there are 2895 missing values. Becuse of Natural and other\n"
   ]
  },
  {
   "cell_type": "code",
   "execution_count": 39,
   "metadata": {},
   "outputs": [
    {
     "data": {
      "text/plain": [
       "1       Negative\n",
       "2          Other\n",
       "3          Other\n",
       "4       Positive\n",
       "5       Positive\n",
       "6       Positive\n",
       "7       Positive\n",
       "8       Positive\n",
       "9       Positive\n",
       "10      Positive\n",
       "11      Positive\n",
       "12      Positive\n",
       "13      Negative\n",
       "14         Other\n",
       "15      Positive\n",
       "16      Positive\n",
       "17      Negative\n",
       "18      Positive\n",
       "19      Positive\n",
       "20      Positive\n",
       "21      Positive\n",
       "22      Positive\n",
       "23      Positive\n",
       "24      Positive\n",
       "25      Positive\n",
       "26      Positive\n",
       "27       Neutral\n",
       "28      Positive\n",
       "29         Other\n",
       "30      Positive\n",
       "          ...   \n",
       "7970    Positive\n",
       "7971    Positive\n",
       "7972    Positive\n",
       "7973    Positive\n",
       "7974    Positive\n",
       "7975    Positive\n",
       "7976    Positive\n",
       "7977    Positive\n",
       "7978    Positive\n",
       "7979       Other\n",
       "7980    Positive\n",
       "7981    Positive\n",
       "7982       Other\n",
       "7983    Positive\n",
       "7984    Positive\n",
       "7985    Positive\n",
       "7986    Positive\n",
       "7987       Other\n",
       "7988    Positive\n",
       "7989    Negative\n",
       "7990       Other\n",
       "7991    Positive\n",
       "7992    Positive\n",
       "7993     Neutral\n",
       "7994    Positive\n",
       "7995    Positive\n",
       "7996    Positive\n",
       "7997    Positive\n",
       "7998    Positive\n",
       "7999    Positive\n",
       "Name: State, Length: 7999, dtype: object"
      ]
     },
     "execution_count": 39,
     "metadata": {},
     "output_type": "execute_result"
    }
   ],
   "source": [
    "# second option is to drop these values\n",
    "Data_df.State.dropna()"
   ]
  },
  {
   "cell_type": "markdown",
   "metadata": {},
   "source": [
    "# Step 5.b: Preprocess the text\n"
   ]
  },
  {
   "cell_type": "code",
   "execution_count": 40,
   "metadata": {},
   "outputs": [
    {
     "data": {
      "text/html": [
       "<div>\n",
       "<style scoped>\n",
       "    .dataframe tbody tr th:only-of-type {\n",
       "        vertical-align: middle;\n",
       "    }\n",
       "\n",
       "    .dataframe tbody tr th {\n",
       "        vertical-align: top;\n",
       "    }\n",
       "\n",
       "    .dataframe thead th {\n",
       "        text-align: right;\n",
       "    }\n",
       "</style>\n",
       "<table border=\"1\" class=\"dataframe\">\n",
       "  <thead>\n",
       "    <tr style=\"text-align: right;\">\n",
       "      <th></th>\n",
       "      <th>Tweet ID</th>\n",
       "      <th>Date</th>\n",
       "      <th>URL</th>\n",
       "      <th>Content</th>\n",
       "      <th>State</th>\n",
       "      <th>Language</th>\n",
       "      <th>Auther</th>\n",
       "      <th>Name</th>\n",
       "      <th>Gender</th>\n",
       "      <th>Country</th>\n",
       "      <th>City</th>\n",
       "      <th>Lication from user BIO</th>\n",
       "      <th>Posts</th>\n",
       "      <th>Post Favorite</th>\n",
       "      <th>Friends</th>\n",
       "      <th>Followers</th>\n",
       "      <th>Source</th>\n",
       "      <th>Retweeted Status</th>\n",
       "    </tr>\n",
       "  </thead>\n",
       "  <tbody>\n",
       "    <tr>\n",
       "      <th>1</th>\n",
       "      <td>82706432</td>\n",
       "      <td>2019-02-19 09:51:00</td>\n",
       "      <td>https://t.co/n8StxsORUi</td>\n",
       "      <td>خاطفينه هلاليين الله حسيبهم</td>\n",
       "      <td>Negative</td>\n",
       "      <td>ar</td>\n",
       "      <td>ًالجهني??</td>\n",
       "      <td>z7k_t</td>\n",
       "      <td>Female</td>\n",
       "      <td>Kingdom of Saudi Arabia</td>\n",
       "      <td>Haql</td>\n",
       "      <td>نادي الهلال</td>\n",
       "      <td>6065</td>\n",
       "      <td>2959</td>\n",
       "      <td>98</td>\n",
       "      <td>266</td>\n",
       "      <td>Twitter for iPhone</td>\n",
       "      <td>This is a retweet</td>\n",
       "    </tr>\n",
       "    <tr>\n",
       "      <th>2</th>\n",
       "      <td>82706432</td>\n",
       "      <td>2019-02-19 09:51:00</td>\n",
       "      <td>…</td>\n",
       "      <td>RT DomingoSohayla ماراثون التخفيضات من نون   ش...</td>\n",
       "      <td>Other</td>\n",
       "      <td>ar</td>\n",
       "      <td>مِحً ـمِدُ عَ ـفاش(بّن قَحطٌـآن)</td>\n",
       "      <td>Bn_3afash</td>\n",
       "      <td>Business</td>\n",
       "      <td>Kingdom of Saudi Arabia</td>\n",
       "      <td>Haql</td>\n",
       "      <td>النبض صنعاء وفي المكلا انفاسي</td>\n",
       "      <td>89981</td>\n",
       "      <td>9391</td>\n",
       "      <td>3935</td>\n",
       "      <td>16993</td>\n",
       "      <td>Twitter for Android</td>\n",
       "      <td>This is a retweet</td>\n",
       "    </tr>\n",
       "    <tr>\n",
       "      <th>3</th>\n",
       "      <td>82706432</td>\n",
       "      <td>2019-02-19 09:51:00</td>\n",
       "      <td>…</td>\n",
       "      <td>RT amar_hamad بحضوركم_نصر_اسيا_راجع\\r\\n\\r\\nمعل...</td>\n",
       "      <td>Other</td>\n",
       "      <td>ar</td>\n",
       "      <td>العنيد</td>\n",
       "      <td>Abdulrahman532</td>\n",
       "      <td>Male</td>\n",
       "      <td>Kingdom of Saudi Arabia</td>\n",
       "      <td>Haql</td>\n",
       "      <td>None</td>\n",
       "      <td>421</td>\n",
       "      <td>37</td>\n",
       "      <td>299</td>\n",
       "      <td>26</td>\n",
       "      <td>Twitter for iPhone</td>\n",
       "      <td>This is a retweet</td>\n",
       "    </tr>\n",
       "    <tr>\n",
       "      <th>4</th>\n",
       "      <td>82706432</td>\n",
       "      <td>2019-02-19 09:51:00</td>\n",
       "      <td>https://t.co/n8StxsORUi</td>\n",
       "      <td>RT Alhilal_FC  هلا بالأسد  \\r\\n\\r\\nالهلال http...</td>\n",
       "      <td>Positive</td>\n",
       "      <td>ar</td>\n",
       "      <td>نوال ????‍??</td>\n",
       "      <td>J8Nawal</td>\n",
       "      <td>Female</td>\n",
       "      <td>Kingdom of Saudi Arabia</td>\n",
       "      <td>Haql</td>\n",
       "      <td>None</td>\n",
       "      <td>2445</td>\n",
       "      <td>1969</td>\n",
       "      <td>676</td>\n",
       "      <td>246</td>\n",
       "      <td>Twitter for iPhone</td>\n",
       "      <td>This is a retweet</td>\n",
       "    </tr>\n",
       "    <tr>\n",
       "      <th>5</th>\n",
       "      <td>82706432</td>\n",
       "      <td>2019-02-19 09:51:00</td>\n",
       "      <td>https://t.co/AkhqtNGWU3</td>\n",
       "      <td>RT Alhilal_FC  تطعيس \\r\\n \\r\\nالهلال httpstcoA...</td>\n",
       "      <td>Positive</td>\n",
       "      <td>ar</td>\n",
       "      <td>Faleh Alarjani</td>\n",
       "      <td>br__br0</td>\n",
       "      <td>Male</td>\n",
       "      <td>Kingdom of Saudi Arabia</td>\n",
       "      <td>Haql</td>\n",
       "      <td>None</td>\n",
       "      <td>844</td>\n",
       "      <td>990</td>\n",
       "      <td>184</td>\n",
       "      <td>52</td>\n",
       "      <td>Twitter for iPhone</td>\n",
       "      <td>This is a retweet</td>\n",
       "    </tr>\n",
       "  </tbody>\n",
       "</table>\n",
       "</div>"
      ],
      "text/plain": [
       "   Tweet ID                 Date                      URL  \\\n",
       "1  82706432  2019-02-19 09:51:00  https://t.co/n8StxsORUi   \n",
       "2  82706432  2019-02-19 09:51:00                        …   \n",
       "3  82706432  2019-02-19 09:51:00                        …   \n",
       "4  82706432  2019-02-19 09:51:00  https://t.co/n8StxsORUi   \n",
       "5  82706432  2019-02-19 09:51:00  https://t.co/AkhqtNGWU3   \n",
       "\n",
       "                                             Content     State Language  \\\n",
       "1                        خاطفينه هلاليين الله حسيبهم  Negative       ar   \n",
       "2  RT DomingoSohayla ماراثون التخفيضات من نون   ش...     Other       ar   \n",
       "3  RT amar_hamad بحضوركم_نصر_اسيا_راجع\\r\\n\\r\\nمعل...     Other       ar   \n",
       "4  RT Alhilal_FC  هلا بالأسد  \\r\\n\\r\\nالهلال http...  Positive       ar   \n",
       "5  RT Alhilal_FC  تطعيس \\r\\n \\r\\nالهلال httpstcoA...  Positive       ar   \n",
       "\n",
       "                             Auther            Name    Gender  \\\n",
       "1                         ًالجهني??           z7k_t    Female   \n",
       "2  مِحً ـمِدُ عَ ـفاش(بّن قَحطٌـآن)       Bn_3afash  Business   \n",
       "3                            العنيد  Abdulrahman532      Male   \n",
       "4                      نوال ????‍??         J8Nawal    Female   \n",
       "5                    Faleh Alarjani         br__br0      Male   \n",
       "\n",
       "                   Country  City          Lication from user BIO  Posts  \\\n",
       "1  Kingdom of Saudi Arabia  Haql                    نادي الهلال    6065   \n",
       "2  Kingdom of Saudi Arabia  Haql  النبض صنعاء وفي المكلا انفاسي   89981   \n",
       "3  Kingdom of Saudi Arabia  Haql                            None    421   \n",
       "4  Kingdom of Saudi Arabia  Haql                            None   2445   \n",
       "5  Kingdom of Saudi Arabia  Haql                            None    844   \n",
       "\n",
       "   Post Favorite  Friends  Followers               Source   Retweeted Status  \n",
       "1           2959       98        266   Twitter for iPhone  This is a retweet  \n",
       "2           9391     3935      16993  Twitter for Android  This is a retweet  \n",
       "3             37      299         26   Twitter for iPhone  This is a retweet  \n",
       "4           1969      676        246   Twitter for iPhone  This is a retweet  \n",
       "5            990      184         52   Twitter for iPhone  This is a retweet  "
      ]
     },
     "execution_count": 40,
     "metadata": {},
     "output_type": "execute_result"
    }
   ],
   "source": [
    "# check the new column\n",
    "Data_df.head(5)"
   ]
  },
  {
   "cell_type": "code",
   "execution_count": 41,
   "metadata": {
    "scrolled": false
   },
   "outputs": [],
   "source": [
    "Data_df['Content']= Data_df['Content'].str.replace(\"[({':]\", \"\")\n",
    "\n",
    "Data_df.Content = Data_df.Content.str.replace(r\"@#[A-Za-z0-9]\", \" \")\n",
    "Data_df.Content = Data_df.Content.str.replace(r\"[ِa-zA-Z0-9؟?]\", \" \")\n",
    "Data_df.Content = Data_df.Content.str.replace(r\"[ِ\\r\\n]\", \" \")\n",
    "Data_df.Content = Data_df.Content.str.replace(r\"[ِ_]\", \" \")\n",
    "Data_df.Content = Data_df.Content.str.replace(r\"\\s+\", \" \")\n",
    "\n"
   ]
  },
  {
   "cell_type": "code",
   "execution_count": 42,
   "metadata": {},
   "outputs": [
    {
     "data": {
      "text/html": [
       "<div>\n",
       "<style scoped>\n",
       "    .dataframe tbody tr th:only-of-type {\n",
       "        vertical-align: middle;\n",
       "    }\n",
       "\n",
       "    .dataframe tbody tr th {\n",
       "        vertical-align: top;\n",
       "    }\n",
       "\n",
       "    .dataframe thead th {\n",
       "        text-align: right;\n",
       "    }\n",
       "</style>\n",
       "<table border=\"1\" class=\"dataframe\">\n",
       "  <thead>\n",
       "    <tr style=\"text-align: right;\">\n",
       "      <th></th>\n",
       "      <th>Tweet ID</th>\n",
       "      <th>Date</th>\n",
       "      <th>URL</th>\n",
       "      <th>Content</th>\n",
       "      <th>State</th>\n",
       "      <th>Language</th>\n",
       "      <th>Auther</th>\n",
       "      <th>Name</th>\n",
       "      <th>Gender</th>\n",
       "      <th>Country</th>\n",
       "      <th>City</th>\n",
       "      <th>Lication from user BIO</th>\n",
       "      <th>Posts</th>\n",
       "      <th>Post Favorite</th>\n",
       "      <th>Friends</th>\n",
       "      <th>Followers</th>\n",
       "      <th>Source</th>\n",
       "      <th>Retweeted Status</th>\n",
       "    </tr>\n",
       "  </thead>\n",
       "  <tbody>\n",
       "    <tr>\n",
       "      <th>1</th>\n",
       "      <td>82706432</td>\n",
       "      <td>2019-02-19 09:51:00</td>\n",
       "      <td>https://t.co/n8StxsORUi</td>\n",
       "      <td>خاطفينه هلاليين الله حسيبهم</td>\n",
       "      <td>Negative</td>\n",
       "      <td>ar</td>\n",
       "      <td>ًالجهني??</td>\n",
       "      <td>z7k_t</td>\n",
       "      <td>Female</td>\n",
       "      <td>Kingdom of Saudi Arabia</td>\n",
       "      <td>Haql</td>\n",
       "      <td>نادي الهلال</td>\n",
       "      <td>6065</td>\n",
       "      <td>2959</td>\n",
       "      <td>98</td>\n",
       "      <td>266</td>\n",
       "      <td>Twitter for iPhone</td>\n",
       "      <td>This is a retweet</td>\n",
       "    </tr>\n",
       "    <tr>\n",
       "      <th>2</th>\n",
       "      <td>82706432</td>\n",
       "      <td>2019-02-19 09:51:00</td>\n",
       "      <td>…</td>\n",
       "      <td>ماراثون التخفيضات من نون شغال الحق فرصتك بالش...</td>\n",
       "      <td>Other</td>\n",
       "      <td>ar</td>\n",
       "      <td>مِحً ـمِدُ عَ ـفاش(بّن قَحطٌـآن)</td>\n",
       "      <td>Bn_3afash</td>\n",
       "      <td>Business</td>\n",
       "      <td>Kingdom of Saudi Arabia</td>\n",
       "      <td>Haql</td>\n",
       "      <td>النبض صنعاء وفي المكلا انفاسي</td>\n",
       "      <td>89981</td>\n",
       "      <td>9391</td>\n",
       "      <td>3935</td>\n",
       "      <td>16993</td>\n",
       "      <td>Twitter for Android</td>\n",
       "      <td>This is a retweet</td>\n",
       "    </tr>\n",
       "    <tr>\n",
       "      <th>3</th>\n",
       "      <td>82706432</td>\n",
       "      <td>2019-02-19 09:51:00</td>\n",
       "      <td>…</td>\n",
       "      <td>بحضوركم نصر اسيا راجع معلومة تهمك لعب النصر ف...</td>\n",
       "      <td>Other</td>\n",
       "      <td>ar</td>\n",
       "      <td>العنيد</td>\n",
       "      <td>Abdulrahman532</td>\n",
       "      <td>Male</td>\n",
       "      <td>Kingdom of Saudi Arabia</td>\n",
       "      <td>Haql</td>\n",
       "      <td>None</td>\n",
       "      <td>421</td>\n",
       "      <td>37</td>\n",
       "      <td>299</td>\n",
       "      <td>26</td>\n",
       "      <td>Twitter for iPhone</td>\n",
       "      <td>This is a retweet</td>\n",
       "    </tr>\n",
       "    <tr>\n",
       "      <th>4</th>\n",
       "      <td>82706432</td>\n",
       "      <td>2019-02-19 09:51:00</td>\n",
       "      <td>https://t.co/n8StxsORUi</td>\n",
       "      <td>هلا بالأسد الهلال</td>\n",
       "      <td>Positive</td>\n",
       "      <td>ar</td>\n",
       "      <td>نوال ????‍??</td>\n",
       "      <td>J8Nawal</td>\n",
       "      <td>Female</td>\n",
       "      <td>Kingdom of Saudi Arabia</td>\n",
       "      <td>Haql</td>\n",
       "      <td>None</td>\n",
       "      <td>2445</td>\n",
       "      <td>1969</td>\n",
       "      <td>676</td>\n",
       "      <td>246</td>\n",
       "      <td>Twitter for iPhone</td>\n",
       "      <td>This is a retweet</td>\n",
       "    </tr>\n",
       "    <tr>\n",
       "      <th>5</th>\n",
       "      <td>82706432</td>\n",
       "      <td>2019-02-19 09:51:00</td>\n",
       "      <td>https://t.co/AkhqtNGWU3</td>\n",
       "      <td>تطعيس الهلال</td>\n",
       "      <td>Positive</td>\n",
       "      <td>ar</td>\n",
       "      <td>Faleh Alarjani</td>\n",
       "      <td>br__br0</td>\n",
       "      <td>Male</td>\n",
       "      <td>Kingdom of Saudi Arabia</td>\n",
       "      <td>Haql</td>\n",
       "      <td>None</td>\n",
       "      <td>844</td>\n",
       "      <td>990</td>\n",
       "      <td>184</td>\n",
       "      <td>52</td>\n",
       "      <td>Twitter for iPhone</td>\n",
       "      <td>This is a retweet</td>\n",
       "    </tr>\n",
       "  </tbody>\n",
       "</table>\n",
       "</div>"
      ],
      "text/plain": [
       "   Tweet ID                 Date                      URL  \\\n",
       "1  82706432  2019-02-19 09:51:00  https://t.co/n8StxsORUi   \n",
       "2  82706432  2019-02-19 09:51:00                        …   \n",
       "3  82706432  2019-02-19 09:51:00                        …   \n",
       "4  82706432  2019-02-19 09:51:00  https://t.co/n8StxsORUi   \n",
       "5  82706432  2019-02-19 09:51:00  https://t.co/AkhqtNGWU3   \n",
       "\n",
       "                                             Content     State Language  \\\n",
       "1                        خاطفينه هلاليين الله حسيبهم  Negative       ar   \n",
       "2   ماراثون التخفيضات من نون شغال الحق فرصتك بالش...     Other       ar   \n",
       "3   بحضوركم نصر اسيا راجع معلومة تهمك لعب النصر ف...     Other       ar   \n",
       "4                                 هلا بالأسد الهلال   Positive       ar   \n",
       "5                                      تطعيس الهلال   Positive       ar   \n",
       "\n",
       "                             Auther            Name    Gender  \\\n",
       "1                         ًالجهني??           z7k_t    Female   \n",
       "2  مِحً ـمِدُ عَ ـفاش(بّن قَحطٌـآن)       Bn_3afash  Business   \n",
       "3                            العنيد  Abdulrahman532      Male   \n",
       "4                      نوال ????‍??         J8Nawal    Female   \n",
       "5                    Faleh Alarjani         br__br0      Male   \n",
       "\n",
       "                   Country  City          Lication from user BIO  Posts  \\\n",
       "1  Kingdom of Saudi Arabia  Haql                    نادي الهلال    6065   \n",
       "2  Kingdom of Saudi Arabia  Haql  النبض صنعاء وفي المكلا انفاسي   89981   \n",
       "3  Kingdom of Saudi Arabia  Haql                            None    421   \n",
       "4  Kingdom of Saudi Arabia  Haql                            None   2445   \n",
       "5  Kingdom of Saudi Arabia  Haql                            None    844   \n",
       "\n",
       "   Post Favorite  Friends  Followers               Source   Retweeted Status  \n",
       "1           2959       98        266   Twitter for iPhone  This is a retweet  \n",
       "2           9391     3935      16993  Twitter for Android  This is a retweet  \n",
       "3             37      299         26   Twitter for iPhone  This is a retweet  \n",
       "4           1969      676        246   Twitter for iPhone  This is a retweet  \n",
       "5            990      184         52   Twitter for iPhone  This is a retweet  "
      ]
     },
     "execution_count": 42,
     "metadata": {},
     "output_type": "execute_result"
    }
   ],
   "source": [
    "Data_df.head(5)"
   ]
  },
  {
   "cell_type": "code",
   "execution_count": 43,
   "metadata": {},
   "outputs": [],
   "source": [
    "Data_df['State'] = Data_df['State'].map({'Positive': 1, 'Negative': 0}) "
   ]
  },
  {
   "cell_type": "code",
   "execution_count": 44,
   "metadata": {},
   "outputs": [
    {
     "name": "stderr",
     "output_type": "stream",
     "text": [
      "C:\\Users\\ASUS\\Anaconda3\\Anaconda_New\\lib\\site-packages\\pandas\\core\\ops.py:1649: FutureWarning: elementwise comparison failed; returning scalar instead, but in the future will perform elementwise comparison\n",
      "  result = method(y)\n"
     ]
    }
   ],
   "source": [
    "Data_df=Data_df[Data_df['State'] != \"Neutral\"]"
   ]
  },
  {
   "cell_type": "code",
   "execution_count": 45,
   "metadata": {},
   "outputs": [],
   "source": [
    "Data_df=Data_df[Data_df['State'] != \"Other\"]\n",
    "Data_df=Data_df[Data_df['State'] != \"other\"]"
   ]
  },
  {
   "cell_type": "code",
   "execution_count": 46,
   "metadata": {},
   "outputs": [
    {
     "data": {
      "text/plain": [
       "True"
      ]
     },
     "execution_count": 46,
     "metadata": {},
     "output_type": "execute_result"
    }
   ],
   "source": [
    "# Any missing values?\n",
    "Data_df.isnull().values.any()"
   ]
  },
  {
   "cell_type": "code",
   "execution_count": 47,
   "metadata": {},
   "outputs": [
    {
     "data": {
      "text/plain": [
       "Tweet ID                     0\n",
       "Date                         0\n",
       "URL                          0\n",
       "Content                      0\n",
       "State                     2895\n",
       "Language                     0\n",
       "Auther                       0\n",
       "Name                         0\n",
       "Gender                       0\n",
       "Country                      0\n",
       "City                         0\n",
       "Lication from user BIO       0\n",
       "Posts                        0\n",
       "Post Favorite                0\n",
       "Friends                      0\n",
       "Followers                    0\n",
       "Source                       0\n",
       "Retweeted Status             0\n",
       "dtype: int64"
      ]
     },
     "execution_count": 47,
     "metadata": {},
     "output_type": "execute_result"
    }
   ],
   "source": [
    "# Total missing values for each feature\n",
    "Data_df.isnull().sum()"
   ]
  },
  {
   "cell_type": "code",
   "execution_count": 48,
   "metadata": {},
   "outputs": [],
   "source": [
    "Data_df.dropna(axis=0,inplace=True)"
   ]
  },
  {
   "cell_type": "code",
   "execution_count": 49,
   "metadata": {},
   "outputs": [],
   "source": [
    "Data_df['State']=Data_df['State'].astype(int)"
   ]
  },
  {
   "cell_type": "code",
   "execution_count": 50,
   "metadata": {},
   "outputs": [
    {
     "data": {
      "text/plain": [
       "False"
      ]
     },
     "execution_count": 50,
     "metadata": {},
     "output_type": "execute_result"
    }
   ],
   "source": [
    "# Any missing values?\n",
    "Data_df.isnull().values.any()"
   ]
  },
  {
   "cell_type": "code",
   "execution_count": 51,
   "metadata": {},
   "outputs": [
    {
     "data": {
      "text/plain": [
       "Tweet ID                  0\n",
       "Date                      0\n",
       "URL                       0\n",
       "Content                   0\n",
       "State                     0\n",
       "Language                  0\n",
       "Auther                    0\n",
       "Name                      0\n",
       "Gender                    0\n",
       "Country                   0\n",
       "City                      0\n",
       "Lication from user BIO    0\n",
       "Posts                     0\n",
       "Post Favorite             0\n",
       "Friends                   0\n",
       "Followers                 0\n",
       "Source                    0\n",
       "Retweeted Status          0\n",
       "dtype: int64"
      ]
     },
     "execution_count": 51,
     "metadata": {},
     "output_type": "execute_result"
    }
   ],
   "source": [
    "# Total missing values for each feature\n",
    "Data_df.isnull().sum()"
   ]
  },
  {
   "cell_type": "code",
   "execution_count": 52,
   "metadata": {},
   "outputs": [
    {
     "data": {
      "text/plain": [
       "(5104, 18)"
      ]
     },
     "execution_count": 52,
     "metadata": {},
     "output_type": "execute_result"
    }
   ],
   "source": [
    "Data_df.shape"
   ]
  },
  {
   "cell_type": "code",
   "execution_count": 53,
   "metadata": {},
   "outputs": [],
   "source": [
    "data= Data_df['Content']\n",
    "target= Data_df['State']"
   ]
  },
  {
   "cell_type": "markdown",
   "metadata": {},
   "source": [
    "# Step 6: ML Classification  \n"
   ]
  },
  {
   "cell_type": "code",
   "execution_count": 54,
   "metadata": {},
   "outputs": [],
   "source": [
    "from sklearn.model_selection import train_test_split\n",
    "from sklearn.model_selection import train_test_split\n",
    "\n",
    "\n",
    "from sklearn.feature_extraction.text import TfidfVectorizer\n",
    "from sklearn import svm\n",
    "from sklearn.linear_model import LogisticRegression\n",
    "from sklearn import naive_bayes\n",
    "from sklearn.model_selection import cross_val_score, cross_val_predict, KFold\n",
    "from sklearn.metrics  import confusion_matrix, classification_report\n",
    "from sklearn import metrics"
   ]
  },
  {
   "cell_type": "code",
   "execution_count": 74,
   "metadata": {},
   "outputs": [
    {
     "name": "stdout",
     "output_type": "stream",
     "text": [
      "  (0, 3729)\t0.5650236403989866\n",
      "  (0, 6849)\t0.5262345691151278\n",
      "  (0, 1784)\t0.29081566300453854\n",
      "  (0, 3625)\t0.5650236403989866\n",
      "  (1, 6843)\t0.6601774622077193\n",
      "  (1, 2373)\t0.6601774622077193\n",
      "  (1, 2095)\t0.3582337739325406\n",
      "  (2, 2095)\t0.43165767099541996\n",
      "  (2, 3169)\t0.9020375020312681\n",
      "  (3, 2095)\t0.210183362230696\n",
      "  (3, 1344)\t0.38805151464615234\n",
      "  (3, 6189)\t0.5193971261791829\n",
      "  (3, 2306)\t0.5193971261791829\n",
      "  (3, 1856)\t0.5154534187061319\n",
      "  (4, 2095)\t0.18435580089667783\n",
      "  (4, 5154)\t0.4338287782262267\n",
      "  (4, 8086)\t0.5944942794178525\n",
      "  (4, 5143)\t0.5611576490191317\n",
      "  (4, 3495)\t0.3308839291129948\n",
      "  (5, 2095)\t0.07744087672410957\n",
      "  (5, 787)\t0.099497458432482\n",
      "  (5, 809)\t0.2473647490657292\n",
      "  (5, 8513)\t0.323395955339508\n",
      "  (5, 3897)\t0.19843265280815237\n",
      "  (5, 3722)\t0.29805221991491515\n",
      "  :\t:\n",
      "  (5101, 7155)\t0.23653539832050127\n",
      "  (5101, 6543)\t0.24241091179968297\n",
      "  (5101, 1689)\t0.2688304878080439\n",
      "  (5101, 3951)\t0.23653539832050127\n",
      "  (5101, 1962)\t0.3021993212941448\n",
      "  (5102, 921)\t0.1094249243811007\n",
      "  (5102, 6279)\t0.14969915339228232\n",
      "  (5102, 6303)\t0.34385304387082644\n",
      "  (5102, 7986)\t0.1993006264986888\n",
      "  (5102, 3983)\t0.15520600016088895\n",
      "  (5102, 1120)\t0.15086816839839223\n",
      "  (5102, 7830)\t0.2999029269868928\n",
      "  (5102, 8012)\t0.15250284618437734\n",
      "  (5102, 5495)\t0.15329754013863733\n",
      "  (5102, 497)\t0.35562503141390495\n",
      "  (5102, 5737)\t0.35562503141390495\n",
      "  (5102, 4302)\t0.34385304387082644\n",
      "  (5102, 1082)\t0.35562503141390495\n",
      "  (5102, 6340)\t0.35562503141390495\n",
      "  (5103, 6410)\t0.17672602166308082\n",
      "  (5103, 921)\t0.1526251511209861\n",
      "  (5103, 4753)\t0.46649321194146576\n",
      "  (5103, 2175)\t0.2998338814597441\n",
      "  (5103, 3572)\t0.5513811478786104\n",
      "  (5103, 6704)\t0.5778719867045135\n"
     ]
    }
   ],
   "source": [
    "# Use TfidfVectorizer for feature extraction (TFIDF to convert textual data to numeric form):\n",
    "tf_vec = TfidfVectorizer()\n",
    "X = tf_vec.fit_transform(data)\n",
    "X.shape\n",
    "print(X)"
   ]
  },
  {
   "cell_type": "code",
   "execution_count": 71,
   "metadata": {},
   "outputs": [
    {
     "ename": "AttributeError",
     "evalue": "head not found",
     "output_type": "error",
     "traceback": [
      "\u001b[1;31m---------------------------------------------------------------------------\u001b[0m",
      "\u001b[1;31mAttributeError\u001b[0m                            Traceback (most recent call last)",
      "\u001b[1;32m<ipython-input-71-41fb7caa4f46>\u001b[0m in \u001b[0;36m<module>\u001b[1;34m\u001b[0m\n\u001b[1;32m----> 1\u001b[1;33m \u001b[0mX\u001b[0m\u001b[1;33m.\u001b[0m\u001b[0mhead\u001b[0m\u001b[1;33m(\u001b[0m\u001b[1;36m5\u001b[0m\u001b[1;33m)\u001b[0m\u001b[1;33m\u001b[0m\u001b[1;33m\u001b[0m\u001b[0m\n\u001b[0m",
      "\u001b[1;32m~\\Anaconda3\\Anaconda_New\\lib\\site-packages\\scipy\\sparse\\base.py\u001b[0m in \u001b[0;36m__getattr__\u001b[1;34m(self, attr)\u001b[0m\n\u001b[0;32m    687\u001b[0m             \u001b[1;32mreturn\u001b[0m \u001b[0mself\u001b[0m\u001b[1;33m.\u001b[0m\u001b[0mgetnnz\u001b[0m\u001b[1;33m(\u001b[0m\u001b[1;33m)\u001b[0m\u001b[1;33m\u001b[0m\u001b[1;33m\u001b[0m\u001b[0m\n\u001b[0;32m    688\u001b[0m         \u001b[1;32melse\u001b[0m\u001b[1;33m:\u001b[0m\u001b[1;33m\u001b[0m\u001b[1;33m\u001b[0m\u001b[0m\n\u001b[1;32m--> 689\u001b[1;33m             \u001b[1;32mraise\u001b[0m \u001b[0mAttributeError\u001b[0m\u001b[1;33m(\u001b[0m\u001b[0mattr\u001b[0m \u001b[1;33m+\u001b[0m \u001b[1;34m\" not found\"\u001b[0m\u001b[1;33m)\u001b[0m\u001b[1;33m\u001b[0m\u001b[1;33m\u001b[0m\u001b[0m\n\u001b[0m\u001b[0;32m    690\u001b[0m \u001b[1;33m\u001b[0m\u001b[0m\n\u001b[0;32m    691\u001b[0m     \u001b[1;32mdef\u001b[0m \u001b[0mtranspose\u001b[0m\u001b[1;33m(\u001b[0m\u001b[0mself\u001b[0m\u001b[1;33m,\u001b[0m \u001b[0maxes\u001b[0m\u001b[1;33m=\u001b[0m\u001b[1;32mNone\u001b[0m\u001b[1;33m,\u001b[0m \u001b[0mcopy\u001b[0m\u001b[1;33m=\u001b[0m\u001b[1;32mFalse\u001b[0m\u001b[1;33m)\u001b[0m\u001b[1;33m:\u001b[0m\u001b[1;33m\u001b[0m\u001b[1;33m\u001b[0m\u001b[0m\n",
      "\u001b[1;31mAttributeError\u001b[0m: head not found"
     ]
    }
   ],
   "source": [
    "X.head(5)"
   ]
  },
  {
   "cell_type": "code",
   "execution_count": 75,
   "metadata": {
    "scrolled": true
   },
   "outputs": [],
   "source": [
    "X_train, X_test, y_train, y_test = train_test_split(X, target, train_size=0.70, random_state=42)"
   ]
  },
  {
   "cell_type": "code",
   "execution_count": 76,
   "metadata": {
    "scrolled": true
   },
   "outputs": [
    {
     "data": {
      "text/html": [
       "<div>\n",
       "<style scoped>\n",
       "    .dataframe tbody tr th:only-of-type {\n",
       "        vertical-align: middle;\n",
       "    }\n",
       "\n",
       "    .dataframe tbody tr th {\n",
       "        vertical-align: top;\n",
       "    }\n",
       "\n",
       "    .dataframe thead th {\n",
       "        text-align: right;\n",
       "    }\n",
       "</style>\n",
       "<table border=\"1\" class=\"dataframe\">\n",
       "  <thead>\n",
       "    <tr style=\"text-align: right;\">\n",
       "      <th></th>\n",
       "      <th>Tweet ID</th>\n",
       "      <th>Date</th>\n",
       "      <th>URL</th>\n",
       "      <th>Content</th>\n",
       "      <th>State</th>\n",
       "      <th>Language</th>\n",
       "      <th>Auther</th>\n",
       "      <th>Name</th>\n",
       "      <th>Gender</th>\n",
       "      <th>Country</th>\n",
       "      <th>City</th>\n",
       "      <th>Lication from user BIO</th>\n",
       "      <th>Posts</th>\n",
       "      <th>Post Favorite</th>\n",
       "      <th>Friends</th>\n",
       "      <th>Followers</th>\n",
       "      <th>Source</th>\n",
       "      <th>Retweeted Status</th>\n",
       "    </tr>\n",
       "  </thead>\n",
       "  <tbody>\n",
       "    <tr>\n",
       "      <th>1</th>\n",
       "      <td>82706432</td>\n",
       "      <td>2019-02-19 09:51:00</td>\n",
       "      <td>https://t.co/n8StxsORUi</td>\n",
       "      <td>خاطفينه هلاليين الله حسيبهم</td>\n",
       "      <td>0</td>\n",
       "      <td>ar</td>\n",
       "      <td>ًالجهني??</td>\n",
       "      <td>z7k_t</td>\n",
       "      <td>Female</td>\n",
       "      <td>Kingdom of Saudi Arabia</td>\n",
       "      <td>Haql</td>\n",
       "      <td>نادي الهلال</td>\n",
       "      <td>6065</td>\n",
       "      <td>2959</td>\n",
       "      <td>98</td>\n",
       "      <td>266</td>\n",
       "      <td>Twitter for iPhone</td>\n",
       "      <td>This is a retweet</td>\n",
       "    </tr>\n",
       "    <tr>\n",
       "      <th>4</th>\n",
       "      <td>82706432</td>\n",
       "      <td>2019-02-19 09:51:00</td>\n",
       "      <td>https://t.co/n8StxsORUi</td>\n",
       "      <td>هلا بالأسد الهلال</td>\n",
       "      <td>1</td>\n",
       "      <td>ar</td>\n",
       "      <td>نوال ????‍??</td>\n",
       "      <td>J8Nawal</td>\n",
       "      <td>Female</td>\n",
       "      <td>Kingdom of Saudi Arabia</td>\n",
       "      <td>Haql</td>\n",
       "      <td>None</td>\n",
       "      <td>2445</td>\n",
       "      <td>1969</td>\n",
       "      <td>676</td>\n",
       "      <td>246</td>\n",
       "      <td>Twitter for iPhone</td>\n",
       "      <td>This is a retweet</td>\n",
       "    </tr>\n",
       "    <tr>\n",
       "      <th>5</th>\n",
       "      <td>82706432</td>\n",
       "      <td>2019-02-19 09:51:00</td>\n",
       "      <td>https://t.co/AkhqtNGWU3</td>\n",
       "      <td>تطعيس الهلال</td>\n",
       "      <td>1</td>\n",
       "      <td>ar</td>\n",
       "      <td>Faleh Alarjani</td>\n",
       "      <td>br__br0</td>\n",
       "      <td>Male</td>\n",
       "      <td>Kingdom of Saudi Arabia</td>\n",
       "      <td>Haql</td>\n",
       "      <td>None</td>\n",
       "      <td>844</td>\n",
       "      <td>990</td>\n",
       "      <td>184</td>\n",
       "      <td>52</td>\n",
       "      <td>Twitter for iPhone</td>\n",
       "      <td>This is a retweet</td>\n",
       "    </tr>\n",
       "    <tr>\n",
       "      <th>6</th>\n",
       "      <td>82706432</td>\n",
       "      <td>2019-02-19 09:51:00</td>\n",
       "      <td>https://t.co/91PEyAxR6J</td>\n",
       "      <td>الزعماء مستمتعين بأجواء المخيم الهلال</td>\n",
       "      <td>1</td>\n",
       "      <td>ar</td>\n",
       "      <td>7A•</td>\n",
       "      <td>Hanan_HFC90</td>\n",
       "      <td>Female</td>\n",
       "      <td>Kingdom of Saudi Arabia</td>\n",
       "      <td>Haql</td>\n",
       "      <td>Alhilal</td>\n",
       "      <td>1393</td>\n",
       "      <td>50</td>\n",
       "      <td>76</td>\n",
       "      <td>91</td>\n",
       "      <td>Twitter for iPhone</td>\n",
       "      <td>This is a retweet</td>\n",
       "    </tr>\n",
       "    <tr>\n",
       "      <th>7</th>\n",
       "      <td>82706432</td>\n",
       "      <td>2019-02-19 09:51:00</td>\n",
       "      <td>https://t.co/rHGiYdkfck</td>\n",
       "      <td>قوميز يبغى قهوه جمهور الهلال</td>\n",
       "      <td>1</td>\n",
       "      <td>ar</td>\n",
       "      <td>كاااارلوس 19??</td>\n",
       "      <td>wail05379</td>\n",
       "      <td>Male</td>\n",
       "      <td>Kingdom of Saudi Arabia</td>\n",
       "      <td>Haql</td>\n",
       "      <td>None</td>\n",
       "      <td>14861</td>\n",
       "      <td>16636</td>\n",
       "      <td>964</td>\n",
       "      <td>967</td>\n",
       "      <td>Twitter for Android</td>\n",
       "      <td>This is a retweet</td>\n",
       "    </tr>\n",
       "  </tbody>\n",
       "</table>\n",
       "</div>"
      ],
      "text/plain": [
       "   Tweet ID                 Date                      URL  \\\n",
       "1  82706432  2019-02-19 09:51:00  https://t.co/n8StxsORUi   \n",
       "4  82706432  2019-02-19 09:51:00  https://t.co/n8StxsORUi   \n",
       "5  82706432  2019-02-19 09:51:00  https://t.co/AkhqtNGWU3   \n",
       "6  82706432  2019-02-19 09:51:00  https://t.co/91PEyAxR6J   \n",
       "7  82706432  2019-02-19 09:51:00  https://t.co/rHGiYdkfck   \n",
       "\n",
       "                                   Content  State Language          Auther  \\\n",
       "1              خاطفينه هلاليين الله حسيبهم      0       ar       ًالجهني??   \n",
       "4                       هلا بالأسد الهلال       1       ar    نوال ????‍??   \n",
       "5                            تطعيس الهلال       1       ar  Faleh Alarjani   \n",
       "6   الزعماء مستمتعين بأجواء المخيم الهلال       1       ar             7A•   \n",
       "7            قوميز يبغى قهوه جمهور الهلال       1       ar  كاااارلوس 19??   \n",
       "\n",
       "          Name  Gender                  Country  City Lication from user BIO  \\\n",
       "1        z7k_t  Female  Kingdom of Saudi Arabia  Haql           نادي الهلال    \n",
       "4      J8Nawal  Female  Kingdom of Saudi Arabia  Haql                   None   \n",
       "5      br__br0    Male  Kingdom of Saudi Arabia  Haql                   None   \n",
       "6  Hanan_HFC90  Female  Kingdom of Saudi Arabia  Haql                Alhilal   \n",
       "7    wail05379    Male  Kingdom of Saudi Arabia  Haql                   None   \n",
       "\n",
       "   Posts  Post Favorite  Friends  Followers               Source  \\\n",
       "1   6065           2959       98        266   Twitter for iPhone   \n",
       "4   2445           1969      676        246   Twitter for iPhone   \n",
       "5    844            990      184         52   Twitter for iPhone   \n",
       "6   1393             50       76         91   Twitter for iPhone   \n",
       "7  14861          16636      964        967  Twitter for Android   \n",
       "\n",
       "    Retweeted Status  \n",
       "1  This is a retweet  \n",
       "4  This is a retweet  \n",
       "5  This is a retweet  \n",
       "6  This is a retweet  \n",
       "7  This is a retweet  "
      ]
     },
     "execution_count": 76,
     "metadata": {},
     "output_type": "execute_result"
    }
   ],
   "source": [
    "Data_df.head(5)"
   ]
  },
  {
   "cell_type": "code",
   "execution_count": 77,
   "metadata": {},
   "outputs": [
    {
     "name": "stdout",
     "output_type": "stream",
     "text": [
      "(3572, 8587) (1532, 8587) (3572,) (1532,)\n"
     ]
    }
   ],
   "source": [
    "print(X_train.shape,X_test.shape,y_train.shape,y_test.shape)"
   ]
  },
  {
   "cell_type": "markdown",
   "metadata": {},
   "source": [
    "# Classifier 1: SVM\n"
   ]
  },
  {
   "cell_type": "code",
   "execution_count": 78,
   "metadata": {},
   "outputs": [
    {
     "name": "stdout",
     "output_type": "stream",
     "text": [
      "SVM accuracy: 0.95\n",
      "\n",
      "10-fold cross-validation:\n",
      "[0.92578125 0.93359375 0.9254902  0.95294118 0.94901961 0.93921569\n",
      " 0.93529412 0.95294118 0.94705882 0.96078431]\n",
      "The average accuracy of the SVM classifier is : 0.94\n",
      "\n",
      "Confusion matrix of the SVM classifier:\n",
      "[[  54   71]\n",
      " [   5 1402]]\n",
      "\n",
      "Classification_report of SVM classifier:\n",
      "              precision    recall  f1-score   support\n",
      "\n",
      "           0       0.92      0.43      0.59       125\n",
      "           1       0.95      1.00      0.97      1407\n",
      "\n",
      "    accuracy                           0.95      1532\n",
      "   macro avg       0.93      0.71      0.78      1532\n",
      "weighted avg       0.95      0.95      0.94      1532\n",
      "\n",
      "----------------------------------------------------------------------------\n"
     ]
    }
   ],
   "source": [
    "# create the classifer and fit the training data and lables\n",
    "classifier_svm = svm.SVC(kernel='linear', C=1, probability=True).fit(X_train,y_train)\n",
    "\n",
    "print(\"SVM accuracy: %.2f\"%classifier_svm.score(X_test, y_test))\n",
    "\n",
    "#do a 10 fold cross-validation \n",
    "results_svm = cross_val_score(classifier_svm, X,target, cv=10)\n",
    "print(\"\\n10-fold cross-validation:\")\n",
    "print(results_svm)\n",
    "\n",
    "print(\"The average accuracy of the SVM classifier is : %.2f\" % np.mean(results_svm))\n",
    "\n",
    "print(\"\\nConfusion matrix of the SVM classifier:\")\n",
    "predicted_svm = classifier_svm.predict(X_test)\n",
    "print(confusion_matrix(y_test,predicted_svm))\n",
    "\n",
    "\n",
    "print(\"\\nClassification_report of SVM classifier:\")\n",
    "print(classification_report(y_test,predicted_svm))\n",
    "print(\"----------------------------------------------------------------------------\")"
   ]
  },
  {
   "cell_type": "code",
   "execution_count": 79,
   "metadata": {},
   "outputs": [],
   "source": [
    "# calculate the fpr and tpr for all thresholds of the classification\n",
    "probs = classifier_svm.predict_proba(X_test)\n",
    "preds = probs[:,1]\n",
    "\n",
    "fpr, tpr, threshold = metrics.roc_curve(y_test, preds)\n",
    "roc_auc = metrics.auc(fpr, tpr)"
   ]
  },
  {
   "cell_type": "code",
   "execution_count": 80,
   "metadata": {},
   "outputs": [
    {
     "data": {
      "image/png": "[encoded data removed]",
      "text/plain": [
       "<Figure size 936x576 with 1 Axes>"
      ]
     },
     "metadata": {},
     "output_type": "display_data"
    }
   ],
   "source": [
    "# polt the AUC\n",
    "plt.title('Receiver Operating Characteristic SVM classifier')\n",
    "plt.plot(fpr, tpr, 'b', label = 'AUC = %0.2f' % roc_auc)\n",
    "plt.legend(loc = 'lower right')\n",
    "plt.plot([0, 1], [0, 1],'r--')\n",
    "plt.xlim([0, 1])\n",
    "plt.ylim([0, 1])\n",
    "plt.ylabel('True Positive Rate')\n",
    "plt.xlabel('False Positive Rate')\n",
    "plt.show()"
   ]
  },
  {
   "cell_type": "markdown",
   "metadata": {},
   "source": [
    "# Classifier 2: Logistic "
   ]
  },
  {
   "cell_type": "code",
   "execution_count": 81,
   "metadata": {},
   "outputs": [
    {
     "name": "stderr",
     "output_type": "stream",
     "text": [
      "C:\\Users\\ASUS\\Anaconda3\\Anaconda_New\\lib\\site-packages\\sklearn\\linear_model\\logistic.py:432: FutureWarning: Default solver will be changed to 'lbfgs' in 0.22. Specify a solver to silence this warning.\n",
      "  FutureWarning)\n"
     ]
    }
   ],
   "source": [
    "# build the second classifer, logsitic regrssion \n",
    "classifier_log =  LogisticRegression().fit(X_train,y_train)"
   ]
  },
  {
   "cell_type": "code",
   "execution_count": 82,
   "metadata": {},
   "outputs": [
    {
     "name": "stderr",
     "output_type": "stream",
     "text": [
      "C:\\Users\\ASUS\\Anaconda3\\Anaconda_New\\lib\\site-packages\\sklearn\\linear_model\\logistic.py:432: FutureWarning: Default solver will be changed to 'lbfgs' in 0.22. Specify a solver to silence this warning.\n",
      "  FutureWarning)\n"
     ]
    },
    {
     "name": "stdout",
     "output_type": "stream",
     "text": [
      "Logisitic Accuracy: 0.94\n",
      "\n",
      "10-fold cross-validation:\n",
      "[0.91601562 0.91210938 0.91568627 0.9372549  0.93137255 0.9372549\n",
      " 0.93529412 0.94313725 0.93529412 0.91372549]\n",
      "The average accuracy of the Logisitic classifier is : 0.93\n",
      "\n",
      "Confusion matrix of the Logisitic classifier:\n",
      "[[  30   95]\n",
      " [   0 1407]]\n",
      "\n",
      "Classification_report of Logisitic classifier:\n",
      "              precision    recall  f1-score   support\n",
      "\n",
      "           0       1.00      0.24      0.39       125\n",
      "           1       0.94      1.00      0.97      1407\n",
      "\n",
      "    accuracy                           0.94      1532\n",
      "   macro avg       0.97      0.62      0.68      1532\n",
      "weighted avg       0.94      0.94      0.92      1532\n",
      "\n",
      "----------------------------------------------------------------------------\n"
     ]
    }
   ],
   "source": [
    "print(\"Logisitic Accuracy: %.2F\"%classifier_log.score(X_test, y_test))\n",
    "results_log = cross_val_score(classifier_log, X,target, cv=10)\n",
    "\n",
    "\n",
    "print(\"\\n10-fold cross-validation:\")\n",
    "print(results_log)\n",
    "\n",
    "\n",
    "print(\"The average accuracy of the Logisitic classifier is : %.2f\" % np.mean(results_log))\n",
    "print(\"\\nConfusion matrix of the Logisitic classifier:\")\n",
    "predicted_log= classifier_log.predict(X_test)\n",
    "print(confusion_matrix(y_test,predicted_log))\n",
    "\n",
    "\n",
    "print(\"\\nClassification_report of Logisitic classifier:\")\n",
    "print(classification_report(y_test,predicted_log))\n",
    "print(\"----------------------------------------------------------------------------\")"
   ]
  },
  {
   "cell_type": "code",
   "execution_count": 83,
   "metadata": {},
   "outputs": [],
   "source": [
    "# calculate the fpr and tpr for all thresholds of the classification\n",
    "\n",
    "probs = classifier_log.predict_proba(X_test)\n",
    "preds = probs[:,1]\n",
    "\n",
    "fpr, tpr, threshold = metrics.roc_curve(y_test, preds)\n",
    "roc_auc = metrics.auc(fpr, tpr)"
   ]
  },
  {
   "cell_type": "code",
   "execution_count": 84,
   "metadata": {},
   "outputs": [
    {
     "data": {
      "image/png": "[encoded data removed]",
      "text/plain": [
       "<Figure size 936x576 with 1 Axes>"
      ]
     },
     "metadata": {},
     "output_type": "display_data"
    }
   ],
   "source": [
    "# polt AUC\n",
    "plt.title('Receiver Operating Characteristic for Logisitic classifier')\n",
    "plt.plot(fpr, tpr, 'b', label = 'AUC = %0.2f' % roc_auc)\n",
    "plt.legend(loc = 'lower right')\n",
    "plt.plot([0, 1], [0, 1],'r--')\n",
    "plt.xlim([0, 1])\n",
    "plt.ylim([0, 1])\n",
    "plt.ylabel('True Positive Rate')\n",
    "plt.xlabel('False Positive Rate')\n",
    "plt.show()"
   ]
  },
  {
   "cell_type": "markdown",
   "metadata": {},
   "source": [
    "# Most informative features\n"
   ]
  },
  {
   "cell_type": "code",
   "execution_count": 85,
   "metadata": {},
   "outputs": [],
   "source": [
    "def most_informative_feature(vectorizer, classifier, top_features=10):\n",
    "    \n",
    "    feature_names = vectorizer.get_feature_names()\n",
    "    svm_coef = classifier.coef_.toarray() \n",
    "    \n",
    "    top_positive_coefficients = sorted(zip(svm_coef[0], feature_names))[-top_features:]\n",
    "    top_negative_coefficients = sorted(zip(svm_coef[0], feature_names))[:top_features]\n",
    "    \n",
    "    print (\"Top Positive Coefficients\")\n",
    "    print (\"==========================\")\n",
    "    for coef, feat in top_positive_coefficients:\n",
    "        print (feat, coef)\n",
    "        \n",
    "    print (\"\")\n",
    "    print (\"Top Negative Coefficients\")\n",
    "    print (\"==========================\")\n",
    "    for coef, feat in top_negative_coefficients:\n",
    "        print (feat, coef)       "
   ]
  },
  {
   "cell_type": "code",
   "execution_count": 86,
   "metadata": {},
   "outputs": [
    {
     "name": "stdout",
     "output_type": "stream",
     "text": [
      "Top Positive Coefficients\n",
      "==========================\n",
      "مبروك 0.564519732063198\n",
      "سابقا 0.5689966656823271\n",
      "سييرا 0.5749704869926177\n",
      "كانت 0.5797567480604124\n",
      "واثق 0.5942070858596188\n",
      "الحزم 0.6065283243240328\n",
      "فاز 0.6201971843946024\n",
      "طبعا 0.6578523941780229\n",
      "حمدالله 0.676245082153575\n",
      "الاهلي 0.7099480706978589\n",
      "\n",
      "Top Negative Coefficients\n",
      "==========================\n",
      "فقراوي -2.3502431975005638\n",
      "طرد -1.8235721386774455\n",
      "طائرة -1.4315739471382527\n",
      "الدفع -1.2882677284137163\n",
      "تركي -1.1743569085571512\n",
      "الرباعي -1.159860423038815\n",
      "الفاشل -1.1331118508831897\n",
      "المليطي -1.1331118508831897\n",
      "شاهين -1.1331118508831897\n",
      "حال -1.1158176467038343\n"
     ]
    }
   ],
   "source": [
    "# show the most informatics features for the svm classifier \n",
    "most_informative_feature(tf_vec,classifier_svm)"
   ]
  },
  {
   "cell_type": "markdown",
   "metadata": {},
   "source": [
    "# Classifier 2: naive_bayes "
   ]
  },
  {
   "cell_type": "code",
   "execution_count": 87,
   "metadata": {},
   "outputs": [
    {
     "name": "stdout",
     "output_type": "stream",
     "text": [
      "naive_bayes accuracy: 0.94\n",
      "\n",
      "10-fold cross-validation:\n",
      "[0.91992188 0.91210938 0.91960784 0.93137255 0.92941176 0.92745098\n",
      " 0.93137255 0.9372549  0.92941176 0.91372549]\n",
      "The average accuracy of the naive_bayes classifier is : 0.93\n",
      "\n",
      "Confusion matrix of the naive_bayes classifier:\n",
      "[[  29   96]\n",
      " [   0 1407]]\n",
      "\n",
      "Classification_report of naive_bayes classifier:\n",
      "              precision    recall  f1-score   support\n",
      "\n",
      "           0       1.00      0.23      0.38       125\n",
      "           1       0.94      1.00      0.97      1407\n",
      "\n",
      "    accuracy                           0.94      1532\n",
      "   macro avg       0.97      0.62      0.67      1532\n",
      "weighted avg       0.94      0.94      0.92      1532\n",
      "\n",
      "----------------------------------------------------------------------------\n"
     ]
    }
   ],
   "source": [
    "classifier_naive_bayes = naive_bayes.MultinomialNB()\n",
    "classifier_naive_bayes.fit(X_train,y_train)\n",
    "\n",
    "print(\"naive_bayes accuracy: %.2f\"%classifier_naive_bayes.score(X_test, y_test))\n",
    "\n",
    "#do a 10 fold cross-validation \n",
    "results_naive_bayes = cross_val_score(classifier_naive_bayes, X,target, cv=10)\n",
    "print(\"\\n10-fold cross-validation:\")\n",
    "print(results_naive_bayes)\n",
    "\n",
    "print(\"The average accuracy of the naive_bayes classifier is : %.2f\" % np.mean(results_naive_bayes))\n",
    "\n",
    "print(\"\\nConfusion matrix of the naive_bayes classifier:\")\n",
    "predicted_naive_bayes = classifier_naive_bayes.predict(X_test)\n",
    "print(confusion_matrix(y_test,predicted_naive_bayes))\n",
    "\n",
    "\n",
    "print(\"\\nClassification_report of naive_bayes classifier:\")\n",
    "print(classification_report(y_test,predicted_naive_bayes))\n",
    "print(\"----------------------------------------------------------------------------\")"
   ]
  },
  {
   "cell_type": "code",
   "execution_count": null,
   "metadata": {},
   "outputs": [],
   "source": []
  },
  {
   "cell_type": "code",
   "execution_count": null,
   "metadata": {},
   "outputs": [],
   "source": []
  }
 ],
 "metadata": {
  "kernelspec": {
   "display_name": "Python 3",
   "language": "python",
   "name": "python3"
  },
  "language_info": {
   "codemirror_mode": {
    "name": "ipython",
    "version": 3
   },
   "file_extension": ".py",
   "mimetype": "text/x-python",
   "name": "python",
   "nbconvert_exporter": "python",
   "pygments_lexer": "ipython3",
   "version": "3.7.3"
  }
 },
 "nbformat": 4,
 "nbformat_minor": 2
}
